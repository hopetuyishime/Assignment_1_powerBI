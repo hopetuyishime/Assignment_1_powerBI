{
 "cells": [
  {
   "metadata": {},
   "cell_type": "code",
   "outputs": [],
   "execution_count": null,
   "source": "",
   "id": "79a4b518b2e747a8"
  },
  {
   "metadata": {},
   "cell_type": "code",
   "outputs": [],
   "execution_count": null,
   "source": "",
   "id": "70b4db688508a17d"
  },
  {
   "cell_type": "code",
   "id": "initial_id",
   "metadata": {
    "collapsed": true,
    "ExecuteTime": {
     "end_time": "2025-07-26T19:21:12.222971Z",
     "start_time": "2025-07-26T19:21:12.217088Z"
    }
   },
   "source": [
    "import pandas as pd\n",
    "import numpy as np"
   ],
   "outputs": [],
   "execution_count": 2
  },
  {
   "metadata": {
    "ExecuteTime": {
     "end_time": "2025-07-26T19:21:13.326781Z",
     "start_time": "2025-07-26T19:21:13.100721Z"
    }
   },
   "cell_type": "code",
   "source": "df =pd.read_csv(\"cleaned_dataset.csv\")",
   "id": "5f15b584a181c653",
   "outputs": [],
   "execution_count": 3
  },
  {
   "metadata": {
    "ExecuteTime": {
     "end_time": "2025-07-26T19:21:14.804849Z",
     "start_time": "2025-07-26T19:21:14.676507Z"
    }
   },
   "cell_type": "code",
   "source": "df['pickup_datetime'] = pd.to_datetime(df['pickup_datetime'], errors='coerce')\n",
   "id": "8e6b73161d6b7e77",
   "outputs": [],
   "execution_count": 4
  },
  {
   "metadata": {
    "ExecuteTime": {
     "end_time": "2025-07-26T19:21:24.284275Z",
     "start_time": "2025-07-26T19:21:24.259923Z"
    }
   },
   "cell_type": "code",
   "source": [
    "df['hour'] = df['pickup_datetime'].dt.hour\n",
    "df['day'] = df['pickup_datetime'].dt.day\n",
    "df['month'] = df['pickup_datetime'].dt.month\n"
   ],
   "id": "c343516b03c44d",
   "outputs": [],
   "execution_count": 5
  },
  {
   "metadata": {
    "ExecuteTime": {
     "end_time": "2025-07-26T19:21:32.729538Z",
     "start_time": "2025-07-26T19:21:32.693390Z"
    }
   },
   "cell_type": "code",
   "source": [
    "df['day_of_week'] = df['pickup_datetime'].dt.dayofweek\n",
    "df['day_name'] = df['pickup_datetime'].dt.day_name()  # For better readability\n"
   ],
   "id": "b6e0473f49abb6df",
   "outputs": [],
   "execution_count": 6
  },
  {
   "metadata": {
    "ExecuteTime": {
     "end_time": "2025-07-26T19:21:39.883919Z",
     "start_time": "2025-07-26T19:21:39.843719Z"
    }
   },
   "cell_type": "code",
   "source": [
    "def classify_peak_hour(hour):\n",
    "    if 7 <= hour <= 10 or 16 <= hour <= 20:\n",
    "        return 'Peak'\n",
    "    else:\n",
    "        return 'Off-Peak'\n",
    "\n",
    "df['peak_time'] = df['hour'].apply(classify_peak_hour)\n"
   ],
   "id": "58738aec7e4f8de6",
   "outputs": [],
   "execution_count": 7
  },
  {
   "metadata": {
    "ExecuteTime": {
     "end_time": "2025-07-26T19:21:48.518966Z",
     "start_time": "2025-07-26T19:21:48.465469Z"
    }
   },
   "cell_type": "code",
   "source": "df['is_weekend'] = df['day_of_week'].apply(lambda x: 1 if x >= 5 else 0)\n",
   "id": "35e77854b348fe87",
   "outputs": [],
   "execution_count": 8
  },
  {
   "metadata": {
    "ExecuteTime": {
     "end_time": "2025-07-26T19:26:47.994322Z",
     "start_time": "2025-07-26T19:26:47.987725Z"
    }
   },
   "cell_type": "code",
   "source": "print(df[['pickup_datetime', 'hour', 'day', 'month', 'day_of_week', 'day_name', 'peak_time', 'is_weekend']].head())\n",
   "id": "2fe6a9753ae58f27",
   "outputs": [
    {
     "name": "stdout",
     "output_type": "stream",
     "text": [
      "            pickup_datetime  hour  day  month  day_of_week  day_name  \\\n",
      "0 2015-05-07 19:52:06+00:00    19    7      5            3         4   \n",
      "1 2009-07-17 20:04:56+00:00    20   17      7            4         0   \n",
      "2 2009-08-24 21:45:00+00:00    21   24      8            0         1   \n",
      "3 2009-06-26 08:22:21+00:00     8   26      6            4         0   \n",
      "4 2014-08-28 17:47:00+00:00    17   28      8            3         4   \n",
      "\n",
      "   peak_time  is_weekend  \n",
      "0          1           0  \n",
      "1          1           0  \n",
      "2          0           0  \n",
      "3          1           0  \n",
      "4          1           0  \n"
     ]
    }
   ],
   "execution_count": 16
  },
  {
   "metadata": {
    "ExecuteTime": {
     "end_time": "2025-07-26T19:26:54.449167Z",
     "start_time": "2025-07-26T19:26:54.444137Z"
    }
   },
   "cell_type": "code",
   "source": [
    "# Auto-detect object or category columns\n",
    "categorical_cols = df.select_dtypes(include=['object', 'category']).columns.tolist()\n",
    "print(\"Categorical columns:\", categorical_cols)\n"
   ],
   "id": "8e9a8625754150",
   "outputs": [
    {
     "name": "stdout",
     "output_type": "stream",
     "text": [
      "Categorical columns: []\n"
     ]
    }
   ],
   "execution_count": 18
  },
  {
   "metadata": {
    "ExecuteTime": {
     "end_time": "2025-07-26T19:26:41.730467Z",
     "start_time": "2025-07-26T19:26:41.701157Z"
    }
   },
   "cell_type": "code",
   "source": [
    "from sklearn.preprocessing import LabelEncoder\n",
    "\n",
    "label_encoders = {}\n",
    "for col in categorical_cols:\n",
    "    le = LabelEncoder()\n",
    "    df[col] = le.fit_transform(df[col])\n",
    "    label_encoders[col] = le  # Store encoder for inverse transformation if needed\n"
   ],
   "id": "81ca01da218131b8",
   "outputs": [],
   "execution_count": 15
  },
  {
   "metadata": {
    "ExecuteTime": {
     "end_time": "2025-07-26T19:26:51.070842Z",
     "start_time": "2025-07-26T19:26:49.979398Z"
    }
   },
   "cell_type": "code",
   "source": "df.to_csv(\"enhanced_dataset.csv\", index=False)\n",
   "id": "40007bf50e1fdd7e",
   "outputs": [],
   "execution_count": 17
  },
  {
   "metadata": {
    "ExecuteTime": {
     "end_time": "2025-07-26T19:26:22.352598Z",
     "start_time": "2025-07-26T19:26:22.342666Z"
    }
   },
   "cell_type": "code",
   "source": [
    "print(\"Enhanced dataset shape:\", df.shape)\n",
    "print(\"Sample rows:\")\n",
    "display(df.head())\n"
   ],
   "id": "2794dd96bef8a0c8",
   "outputs": [
    {
     "name": "stdout",
     "output_type": "stream",
     "text": [
      "Enhanced dataset shape: (199999, 15)\n",
      "Sample rows:\n"
     ]
    },
    {
     "data": {
      "text/plain": [
       "      key  fare_amount           pickup_datetime  pickup_longitude  \\\n",
       "0  195991          7.5 2015-05-07 19:52:06+00:00        -73.999817   \n",
       "1   16590          7.7 2009-07-17 20:04:56+00:00        -73.994355   \n",
       "2   19677         12.9 2009-08-24 21:45:00+00:00        -74.005043   \n",
       "3   14916          5.3 2009-06-26 08:22:21+00:00        -73.976124   \n",
       "4  176170         16.0 2014-08-28 17:47:00+00:00        -73.925023   \n",
       "\n",
       "   pickup_latitude  dropoff_longitude  dropoff_latitude  passenger_count  \\\n",
       "0        40.738354         -73.999512         40.723217                1   \n",
       "1        40.728225         -73.994710         40.750325                1   \n",
       "2        40.740770         -73.962565         40.772647                1   \n",
       "3        40.790844         -73.965316         40.803349                3   \n",
       "4        40.744085         -73.973082         40.761247                5   \n",
       "\n",
       "   hour  day  month  day_of_week  day_name  peak_time  is_weekend  \n",
       "0    19    7      5            3         4          1           0  \n",
       "1    20   17      7            4         0          1           0  \n",
       "2    21   24      8            0         1          0           0  \n",
       "3     8   26      6            4         0          1           0  \n",
       "4    17   28      8            3         4          1           0  "
      ],
      "text/html": [
       "<div>\n",
       "<style scoped>\n",
       "    .dataframe tbody tr th:only-of-type {\n",
       "        vertical-align: middle;\n",
       "    }\n",
       "\n",
       "    .dataframe tbody tr th {\n",
       "        vertical-align: top;\n",
       "    }\n",
       "\n",
       "    .dataframe thead th {\n",
       "        text-align: right;\n",
       "    }\n",
       "</style>\n",
       "<table border=\"1\" class=\"dataframe\">\n",
       "  <thead>\n",
       "    <tr style=\"text-align: right;\">\n",
       "      <th></th>\n",
       "      <th>key</th>\n",
       "      <th>fare_amount</th>\n",
       "      <th>pickup_datetime</th>\n",
       "      <th>pickup_longitude</th>\n",
       "      <th>pickup_latitude</th>\n",
       "      <th>dropoff_longitude</th>\n",
       "      <th>dropoff_latitude</th>\n",
       "      <th>passenger_count</th>\n",
       "      <th>hour</th>\n",
       "      <th>day</th>\n",
       "      <th>month</th>\n",
       "      <th>day_of_week</th>\n",
       "      <th>day_name</th>\n",
       "      <th>peak_time</th>\n",
       "      <th>is_weekend</th>\n",
       "    </tr>\n",
       "  </thead>\n",
       "  <tbody>\n",
       "    <tr>\n",
       "      <th>0</th>\n",
       "      <td>195991</td>\n",
       "      <td>7.5</td>\n",
       "      <td>2015-05-07 19:52:06+00:00</td>\n",
       "      <td>-73.999817</td>\n",
       "      <td>40.738354</td>\n",
       "      <td>-73.999512</td>\n",
       "      <td>40.723217</td>\n",
       "      <td>1</td>\n",
       "      <td>19</td>\n",
       "      <td>7</td>\n",
       "      <td>5</td>\n",
       "      <td>3</td>\n",
       "      <td>4</td>\n",
       "      <td>1</td>\n",
       "      <td>0</td>\n",
       "    </tr>\n",
       "    <tr>\n",
       "      <th>1</th>\n",
       "      <td>16590</td>\n",
       "      <td>7.7</td>\n",
       "      <td>2009-07-17 20:04:56+00:00</td>\n",
       "      <td>-73.994355</td>\n",
       "      <td>40.728225</td>\n",
       "      <td>-73.994710</td>\n",
       "      <td>40.750325</td>\n",
       "      <td>1</td>\n",
       "      <td>20</td>\n",
       "      <td>17</td>\n",
       "      <td>7</td>\n",
       "      <td>4</td>\n",
       "      <td>0</td>\n",
       "      <td>1</td>\n",
       "      <td>0</td>\n",
       "    </tr>\n",
       "    <tr>\n",
       "      <th>2</th>\n",
       "      <td>19677</td>\n",
       "      <td>12.9</td>\n",
       "      <td>2009-08-24 21:45:00+00:00</td>\n",
       "      <td>-74.005043</td>\n",
       "      <td>40.740770</td>\n",
       "      <td>-73.962565</td>\n",
       "      <td>40.772647</td>\n",
       "      <td>1</td>\n",
       "      <td>21</td>\n",
       "      <td>24</td>\n",
       "      <td>8</td>\n",
       "      <td>0</td>\n",
       "      <td>1</td>\n",
       "      <td>0</td>\n",
       "      <td>0</td>\n",
       "    </tr>\n",
       "    <tr>\n",
       "      <th>3</th>\n",
       "      <td>14916</td>\n",
       "      <td>5.3</td>\n",
       "      <td>2009-06-26 08:22:21+00:00</td>\n",
       "      <td>-73.976124</td>\n",
       "      <td>40.790844</td>\n",
       "      <td>-73.965316</td>\n",
       "      <td>40.803349</td>\n",
       "      <td>3</td>\n",
       "      <td>8</td>\n",
       "      <td>26</td>\n",
       "      <td>6</td>\n",
       "      <td>4</td>\n",
       "      <td>0</td>\n",
       "      <td>1</td>\n",
       "      <td>0</td>\n",
       "    </tr>\n",
       "    <tr>\n",
       "      <th>4</th>\n",
       "      <td>176170</td>\n",
       "      <td>16.0</td>\n",
       "      <td>2014-08-28 17:47:00+00:00</td>\n",
       "      <td>-73.925023</td>\n",
       "      <td>40.744085</td>\n",
       "      <td>-73.973082</td>\n",
       "      <td>40.761247</td>\n",
       "      <td>5</td>\n",
       "      <td>17</td>\n",
       "      <td>28</td>\n",
       "      <td>8</td>\n",
       "      <td>3</td>\n",
       "      <td>4</td>\n",
       "      <td>1</td>\n",
       "      <td>0</td>\n",
       "    </tr>\n",
       "  </tbody>\n",
       "</table>\n",
       "</div>"
      ]
     },
     "metadata": {},
     "output_type": "display_data"
    }
   ],
   "execution_count": 13
  }
 ],
 "metadata": {
  "kernelspec": {
   "display_name": "Python 3",
   "language": "python",
   "name": "python3"
  },
  "language_info": {
   "codemirror_mode": {
    "name": "ipython",
    "version": 2
   },
   "file_extension": ".py",
   "mimetype": "text/x-python",
   "name": "python",
   "nbconvert_exporter": "python",
   "pygments_lexer": "ipython2",
   "version": "2.7.6"
  }
 },
 "nbformat": 4,
 "nbformat_minor": 5
}
